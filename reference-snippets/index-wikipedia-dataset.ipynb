{
 "cells": [
  {
   "cell_type": "markdown",
   "metadata": {},
   "source": [
    "# Notebook to load a huggingface dataset which is a subset of wikipdeia and index it in to ELasticsearch to power semantic search and RAG architectures"
   ]
  },
  {
   "cell_type": "code",
   "execution_count": null,
   "metadata": {},
   "outputs": [],
   "source": [
    "!python3 -m pip install -qU langchain\n",
    "!pip install jq"
   ]
  },
  {
   "cell_type": "code",
   "execution_count": null,
   "metadata": {},
   "outputs": [],
   "source": [
    "from datasets import load_from_disk\n",
    "from dotenv import load_dotenv\n",
    "import os\n",
    "import getpass\n",
    "from langchain.document_loaders import JSONLoader\n",
    "import json\n",
    "from pathlib import Path\n",
    "from pprint import pprint\n",
    "from langchain.vectorstores import ElasticsearchStore\n",
    "from langchain.text_splitter import CharacterTextSplitter\n",
    "from elasticsearch import Elasticsearch\n",
    "from elasticsearch.helpers import bulk\n",
    "import time"
   ]
  },
  {
   "cell_type": "code",
   "execution_count": null,
   "metadata": {},
   "outputs": [],
   "source": [
    " # Variables\n",
    "DATASET_PATH = ''\n",
    "INDEX_NAME = \"\""
   ]
  },
  {
   "cell_type": "code",
   "execution_count": null,
   "metadata": {},
   "outputs": [],
   "source": [
    "\n",
    "page_content_column = \"text\"\n",
    "articles = load_from_disk(DATASET_PATH)\n",
    "articles=articles.to_json('./temp.json')\n",
    "\n"
   ]
  },
  {
   "cell_type": "code",
   "execution_count": null,
   "metadata": {},
   "outputs": [],
   "source": [
    "# Define the metadata extraction function.\n",
    "def metadata_func(record: dict, metadata: dict) -> dict:\n",
    "\n",
    "    metadata[\"url\"] = record.get(\"url\")\n",
    "    metadata[\"title\"] = record.get(\"title\")\n",
    "    metadata[\"ID\"] = record.get(\"ID\")\n",
    "\n",
    "    return metadata"
   ]
  },
  {
   "cell_type": "code",
   "execution_count": null,
   "metadata": {},
   "outputs": [],
   "source": [
    "%%capture\n",
    "loader = JSONLoader(\n",
    "    file_path='./temp.json',\n",
    "    jq_schema='.',\n",
    "    content_key='text',\n",
    "    json_lines=True,\n",
    "    metadata_func=metadata_func)\n",
    "\n",
    "text_splitter = CharacterTextSplitter(chunk_size=500, chunk_overlap=50);\n",
    "\n",
    "data = loader.load_and_split(text_splitter)\n",
    "pprint(data[0].dict())"
   ]
  },
  {
   "cell_type": "code",
   "execution_count": null,
   "metadata": {},
   "outputs": [],
   "source": [
    "# Setup your elasticsearch connection. Thy myes\n",
    "#es="
   ]
  },
  {
   "cell_type": "code",
   "execution_count": null,
   "metadata": {},
   "outputs": [],
   "source": [
    "vector_store =  ElasticsearchStore(es_connection=es,index_name= INDEX_NAME,        )\n",
    "\n",
    "documents = vector_store.from_documents(data[0:1], es_connection=es, index_name=INDEX_NAME,strategy=ElasticsearchStore.SparseVectorRetrievalStrategy())"
   ]
  },
  {
   "cell_type": "code",
   "execution_count": null,
   "metadata": {},
   "outputs": [],
   "source": [
    "# Update index settings to remove the default pieline and up the refresh interval\n",
    "index_settings = {\n",
    "    \"settings\": {\n",
    "        \"index.refresh_interval\": \"5m\",\n",
    "        \"index.default_pipeline\": \"_none\"\n",
    "    }\n",
    "}\n",
    "\n",
    "# Update the settings for the specified index\n",
    "response = es.indices.put_settings(index=INDEX_NAME, body=index_settings)\n",
    "pprint(response)\n"
   ]
  },
  {
   "cell_type": "code",
   "execution_count": null,
   "metadata": {},
   "outputs": [],
   "source": [
    "# Bulk indexing function\n",
    "def index_documents(documents):\n",
    "    actions = []\n",
    "    for doc in documents:\n",
    "        action = {\n",
    "            \"_index\": INDEX_NAME,\n",
    "            \"_source\": doc\n",
    "        }\n",
    "        \n",
    "        actions.append(action)\n",
    "    \n",
    "    success, _ = bulk(es, actions=actions,raise_on_error=False)\n",
    "    return success"
   ]
  },
  {
   "cell_type": "code",
   "execution_count": null,
   "metadata": {},
   "outputs": [],
   "source": [
    "pprint(data[0].dict())"
   ]
  },
  {
   "cell_type": "code",
   "execution_count": null,
   "metadata": {},
   "outputs": [],
   "source": [
    "batch_size = 1000   \n",
    "batch=0\n",
    "for i in range(0, len(data), batch_size):\n",
    "    print(f'Batching docs: {i} to {i+batch_size} of {len(data)}')\n",
    "    batch =[]\n",
    "    for doc in data[i:i+batch_size]:\n",
    "        doc=doc.dict()\n",
    "        doc['text']=doc['page_content']\n",
    "        batch.append(doc)\n",
    "    print(index_documents(batch))\n"
   ]
  },
  {
   "cell_type": "code",
   "execution_count": null,
   "metadata": {},
   "outputs": [],
   "source": [
    "# Perform a manual refresh on the index\n",
    "response = es.indices.refresh(index=INDEX_NAME)\n",
    "\n",
    "PIPELINE_NAME = \".elser_model_1_sparse_embedding\"\n",
    "\n",
    "# Define the update by query request\n",
    "update_by_query_body = {\n",
    "    \"query\": {\n",
    "        \"bool\": {\n",
    "            \"must_not\": [\n",
    "                {\"exists\": {\"field\": \"vector.model_id\"}}\n",
    "            ]\n",
    "        }\n",
    "    }\n",
    "}\n",
    "# Execute the update by query operation\n",
    "response = es.update_by_query(index=INDEX_NAME, body=update_by_query_body,pipeline=PIPELINE_NAME,wait_for_completion=False)\n",
    "\n",
    "# Print the response\n",
    "print(response)"
   ]
  },
  {
   "cell_type": "code",
   "execution_count": null,
   "metadata": {},
   "outputs": [],
   "source": [
    "TASK_ID =''\n",
    "\n",
    "# Define the polling interval in seconds\n",
    "POLL_INTERVAL = 20\n",
    "\n",
    "# Poll for the task status\n",
    "while True:\n",
    "    response = es.tasks.get(task_id=TASK_ID)\n",
    "    task_status = response.get(\"completed\")\n",
    "    \n",
    "    if task_status:\n",
    "        print(\"Task completed successfully.\")\n",
    "        break\n",
    "    \n",
    "    print(\"Task still running. Checking again in {} seconds.\".format(POLL_INTERVAL))\n",
    "    time.sleep(POLL_INTERVAL)"
   ]
  }
 ],
 "metadata": {
  "kernelspec": {
   "display_name": "base",
   "language": "python",
   "name": "python3"
  },
  "language_info": {
   "codemirror_mode": {
    "name": "ipython",
    "version": 3
   },
   "file_extension": ".py",
   "mimetype": "text/x-python",
   "name": "python",
   "nbconvert_exporter": "python",
   "pygments_lexer": "ipython3",
   "version": "3.9.7"
  },
  "orig_nbformat": 4
 },
 "nbformat": 4,
 "nbformat_minor": 2
}
