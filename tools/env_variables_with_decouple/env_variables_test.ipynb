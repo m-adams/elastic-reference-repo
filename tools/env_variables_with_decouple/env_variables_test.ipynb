{
 "cells": [
  {
   "cell_type": "markdown",
   "metadata": {},
   "source": [
    "# Example of loading environment variables using Python Decouple\n",
    "\n",
    "[Python-decouple](https://github.com/HBNetwork/python-decouple) is a Python library for managing application settings and configurations. It allows you to separate your settings from your code, making it easier to work with environment variables and configuration files.\n",
    "\n",
    "In this example a separate helper library `config/env.py` is used to load environment variables from `settings.ini`, a `.env` file could be used instead. These variables can be imported as needed in your code.\n",
    "\n",
    "Existing environment variables take precedence over `.ini` and `.env` files.\n"
   ]
  },
  {
   "cell_type": "markdown",
   "metadata": {},
   "source": [
    "## Install requirements\n"
   ]
  },
  {
   "cell_type": "code",
   "execution_count": null,
   "metadata": {},
   "outputs": [],
   "source": [
    "%pip install python-decouple unipath"
   ]
  },
  {
   "cell_type": "markdown",
   "metadata": {},
   "source": [
    "## Import environment variables\n"
   ]
  },
  {
   "cell_type": "code",
   "execution_count": 3,
   "metadata": {},
   "outputs": [],
   "source": [
    "from config.env import (\n",
    "    ELASTIC_CLOUD_ID,\n",
    "    ELASTIC_USERNAME,\n",
    "    ELASTIC_PASSWORD,\n",
    "    ES_INDEX,\n",
    "    BASE_URL,\n",
    "    LLM_SERVICE,\n",
    "    SOME_NUMBER,\n",
    "    ANOTHER_NUMBER\n",
    ")"
   ]
  },
  {
   "cell_type": "markdown",
   "metadata": {},
   "source": [
    "## Test environment variables\n"
   ]
  },
  {
   "cell_type": "code",
   "execution_count": null,
   "metadata": {},
   "outputs": [],
   "source": [
    "print(f\"ELASTIC_CLOUD_ID: {ELASTIC_CLOUD_ID}\")\n",
    "print(f\"ELASTIC_USERNAME: {ELASTIC_USERNAME}\")\n",
    "print(f\"ELASTIC_PASSWORD: {ELASTIC_PASSWORD}\")\n",
    "print(f\"ES_INDEX: {ES_INDEX}\")\n",
    "print(f\"BASE_URL: {BASE_URL}\")\n",
    "print(f\"LLM_SERVICE: {LLM_SERVICE}\")\n",
    "print(f\"SOME_NUMBER: {SOME_NUMBER}\")\n",
    "print(f\"    Type: {type(SOME_NUMBER)}\")\n",
    "print(f\"ANOTHER_NUMBER: {ANOTHER_NUMBER}\")"
   ]
  }
 ],
 "metadata": {
  "kernelspec": {
   "display_name": "Python 3",
   "language": "python",
   "name": "python3"
  },
  "language_info": {
   "codemirror_mode": {
    "name": "ipython",
    "version": 3
   },
   "file_extension": ".py",
   "mimetype": "text/x-python",
   "name": "python",
   "nbconvert_exporter": "python",
   "pygments_lexer": "ipython3",
   "version": "3.11.6"
  }
 },
 "nbformat": 4,
 "nbformat_minor": 2
}
