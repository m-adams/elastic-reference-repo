{
 "cells": [
  {
   "cell_type": "markdown",
   "metadata": {},
   "source": [
    "# Example of loading environment variables using Python Decouple\n",
    "\n",
    "[Python-decouple](https://github.com/HBNetwork/python-decouple) is a Python library for managing application settings and configurations. It allows you to separate your settings from your code, making it easier to work with environment variables and configuration files.\n",
    "\n",
    "In this example a separate helper library `config/env.py` is used to load environment variables from `settings.ini`, a `.env` file could be used instead. These variables can be imported as needed in your code.\n",
    "\n",
    "Existing environment variables take precedence over `.ini` and `.env` files.\n"
   ]
  },
  {
   "cell_type": "markdown",
   "metadata": {},
   "source": [
    "## Install requirements\n"
   ]
  },
  {
   "cell_type": "code",
   "execution_count": 1,
   "metadata": {},
   "outputs": [
    {
     "name": "stdout",
     "output_type": "stream",
     "text": [
      "\u001b[33mDEPRECATION: Loading egg at /usr/local/Cellar/gpgme/1.22.0/lib/python3.11/site-packages/gpg-1.22.0-py3.11-macosx-13-x86_64.egg is deprecated. pip 24.3 will enforce this behaviour change. A possible replacement is to use pip for package installation.. Discussion can be found at https://github.com/pypa/pip/issues/12330\u001b[0m\u001b[33m\n",
      "\u001b[0mRequirement already satisfied: python-decouple in /usr/local/lib/python3.11/site-packages (3.8)\n",
      "Requirement already satisfied: unipath in /usr/local/lib/python3.11/site-packages (1.1)\n",
      "Note: you may need to restart the kernel to use updated packages.\n"
     ]
    }
   ],
   "source": [
    "%pip install python-decouple unipath"
   ]
  },
  {
   "cell_type": "markdown",
   "metadata": {},
   "source": [
    "## Create a Test System Environment Variable\n"
   ]
  },
  {
   "cell_type": "code",
   "execution_count": 1,
   "metadata": {},
   "outputs": [],
   "source": [
    "import os\n",
    "\n",
    "# Set system environment variable\n",
    "os.environ[\"TEST_VAR\"] = \"Hello World!\"\n"
   ]
  },
  {
   "cell_type": "markdown",
   "metadata": {},
   "source": [
    "## Import environment variables\n"
   ]
  },
  {
   "cell_type": "code",
   "execution_count": 2,
   "metadata": {},
   "outputs": [],
   "source": [
    "from config.env import (\n",
    "    ELASTIC_CLOUD_ID,\n",
    "    ELASTIC_USERNAME,\n",
    "    ELASTIC_PASSWORD,\n",
    "    ES_INDEX,\n",
    "    BASE_URL,\n",
    "    LLM_SERVICE,\n",
    "    SOME_NUMBER,\n",
    "    ANOTHER_NUMBER,\n",
    "    TEST_VAR\n",
    ")"
   ]
  },
  {
   "cell_type": "markdown",
   "metadata": {},
   "source": [
    "## Test environment variables\n"
   ]
  },
  {
   "cell_type": "code",
   "execution_count": 3,
   "metadata": {},
   "outputs": [
    {
     "name": "stdout",
     "output_type": "stream",
     "text": [
      "ELASTIC_CLOUD_ID: mycloud:lbGFzdGljLWNsb3Vkabc123def456ghi789b3VkLmNvbjkl012mno345pqEyZDJlNDFjZGI5Njg5NjIxM2Y2ZWJr678stu9vwM2Y2ZyZDJlNDFWJkMGQkMzY0ZTdmZjRjNGxyzA=\n",
      "ELASTIC_USERNAME: my_username\n",
      "ELASTIC_PASSWORD: super_secret--password\n",
      "ES_INDEX: search-example-index\n",
      "BASE_URL: http://www.example.com\n",
      "LLM_SERVICE: \n",
      "SOME_NUMBER: 2\n",
      "    Type: <class 'str'>\n",
      "ANOTHER_NUMBER: 13\n",
      "TEST_VAR: Hello World!\n"
     ]
    }
   ],
   "source": [
    "print(f\"ELASTIC_CLOUD_ID: {ELASTIC_CLOUD_ID}\")\n",
    "print(f\"ELASTIC_USERNAME: {ELASTIC_USERNAME}\")\n",
    "print(f\"ELASTIC_PASSWORD: {ELASTIC_PASSWORD}\")\n",
    "print(f\"ES_INDEX: {ES_INDEX}\")\n",
    "print(f\"BASE_URL: {BASE_URL}\")\n",
    "print(f\"LLM_SERVICE: {LLM_SERVICE}\")\n",
    "print(f\"SOME_NUMBER: {SOME_NUMBER}\")\n",
    "print(f\"    Type: {type(SOME_NUMBER)}\")\n",
    "print(f\"ANOTHER_NUMBER: {ANOTHER_NUMBER}\")\n",
    "\n",
    "# and finally...\n",
    "print(f\"TEST_VAR: {TEST_VAR}\")    # This should be \"Hello World!\", not \"test\""
   ]
  },
  {
   "cell_type": "code",
   "execution_count": null,
   "metadata": {},
   "outputs": [],
   "source": []
  }
 ],
 "metadata": {
  "kernelspec": {
   "display_name": "Python 3",
   "language": "python",
   "name": "python3"
  },
  "language_info": {
   "codemirror_mode": {
    "name": "ipython",
    "version": 3
   },
   "file_extension": ".py",
   "mimetype": "text/x-python",
   "name": "python",
   "nbconvert_exporter": "python",
   "pygments_lexer": "ipython3",
   "version": "3.11.6"
  }
 },
 "nbformat": 4,
 "nbformat_minor": 2
}
