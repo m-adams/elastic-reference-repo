{
 "cells": [
  {
   "cell_type": "markdown",
   "metadata": {},
   "source": [
    "# Playing with Terraform using some helper functions\n",
    "\n",
    "Learn how to use python to invoke Terraform and return all your Elastic Cloud cluster details.\n",
    "This is made easier by using some helper functions but if you want to know what they are doing they just head over and take a look. "
   ]
  },
  {
   "cell_type": "code",
   "execution_count": 10,
   "metadata": {},
   "outputs": [],
   "source": [
    "import sys\n",
    "import pprint\n",
    "\n",
    "# My local imports\n",
    "sys.path.append(\"../\") # go to parent dir this help imports work as expected in notebooks\n",
    "from importlib import reload \n",
    "from tools import terraformes\n",
    "reload(terraformes); # reload module in case of changes\n",
    "\n"
   ]
  },
  {
   "cell_type": "code",
   "execution_count": 11,
   "metadata": {},
   "outputs": [
    {
     "name": "stdout",
     "output_type": "stream",
     "text": [
      "Loading environment variables from .env file\n",
      "Loading environment variables from .env file\n",
      "Using API key authentication\n",
      "Connection to Elasticsearch failed\n",
      "Using username/password authentication\n",
      "Connected to Elasticsearch\n",
      "{'name': 'instance-0000000000', 'cluster_name': '167597aed6204d27af30075eb16679b7', 'cluster_uuid': 'JExNdN45Squ4aAi7lgaT1w', 'version': {'number': '8.10.4', 'build_flavor': 'default', 'build_type': 'docker', 'build_hash': 'b4a62ac808e886ff032700c391f45f1408b2538c', 'build_date': '2023-10-11T22:04:35.506990650Z', 'build_snapshot': False, 'lucene_version': '9.7.0', 'minimum_wire_compatibility_version': '7.17.0', 'minimum_index_compatibility_version': '7.0.0'}, 'tagline': 'You Know, for Search'}\n"
     ]
    }
   ],
   "source": [
    "\n",
    "# Use terraform to create a cluster if it doesn't exist or just to return the details if it does\n",
    "cluster_details, es = terraformes.create_or_return_terraform_cluster(terraform_dir=\"./elastic-cloud/\")\n",
    "\n",
    "print(es.info()) # print cluster info"
   ]
  },
  {
   "cell_type": "code",
   "execution_count": 12,
   "metadata": {},
   "outputs": [
    {
     "name": "stdout",
     "output_type": "stream",
     "text": [
      "{'cloud_id': 'my_example_deployment:ZXVyb3BlLXdlc3QxLmdjcC5jbG91ZC5lcy5pbzo0NDMkMTY3NTk3YWVkNjIwNGQyN2FmMzAwNzVlYjE2Njc5YjckN2I4MDU4MGVkZmUxNDlkZGEzNTY1NDUxOWVkMjBiZDg=',\n",
      " 'cloud_region': 'gcp-europe-west1',\n",
      " 'cluster_alias': 'my-example-deployment',\n",
      " 'cluster_id': '4a9f929dbe6ccd13dfe3976155cc3c2a',\n",
      " 'cluster_name': 'my_example_deployment',\n",
      " 'deployment_template_id': 'gcp-memory-optimized-v2',\n",
      " 'elastic_apm_secret_token': 'nfc1IWvzPoWsZFYK8O',\n",
      " 'elastic_apm_server_url': 'https://my-example-deployment.apm.europe-west1.gcp.cloud.es.io',\n",
      " 'elasticsearch_password': 'EiFiUqAtALE6KYWb34maigsB',\n",
      " 'elasticsearch_url': 'https://167597aed6204d27af30075eb16679b7.europe-west1.gcp.cloud.es.io:443',\n",
      " 'elasticsearch_username': 'elastic',\n",
      " 'kibana_url': 'https://7b80580edfe149dda35654519ed20bd8.europe-west1.gcp.cloud.es.io:9243',\n",
      " 'terraform_dir': '/Users/matthewadams/Desktop/example-elastic-repo/terraform/elastic-cloud'}\n"
     ]
    }
   ],
   "source": [
    "pprint.pprint(cluster_details)"
   ]
  },
  {
   "cell_type": "markdown",
   "metadata": {},
   "source": [
    "## When you are finished you can destroy your cluster\n",
    "\n",
    "I created a helper function which could add to sanity check so you don't accidentally delete a cluster if you click run all by acident\n",
    "\n"
   ]
  },
  {
   "cell_type": "code",
   "execution_count": 13,
   "metadata": {},
   "outputs": [
    {
     "name": "stdout",
     "output_type": "stream",
     "text": [
      "Loading environment variables from .env file\n"
     ]
    },
    {
     "data": {
      "text/plain": [
       "True"
      ]
     },
     "execution_count": 13,
     "metadata": {},
     "output_type": "execute_result"
    }
   ],
   "source": [
    "terraformes.safe_destroy_terrafrom_clsuter(cluster_details)"
   ]
  },
  {
   "cell_type": "markdown",
   "metadata": {},
   "source": []
  }
 ],
 "metadata": {
  "kernelspec": {
   "display_name": ".venv",
   "language": "python",
   "name": "python3"
  },
  "language_info": {
   "codemirror_mode": {
    "name": "ipython",
    "version": 3
   },
   "file_extension": ".py",
   "mimetype": "text/x-python",
   "name": "python",
   "nbconvert_exporter": "python",
   "pygments_lexer": "ipython3",
   "version": "3.9.6"
  }
 },
 "nbformat": 4,
 "nbformat_minor": 2
}
