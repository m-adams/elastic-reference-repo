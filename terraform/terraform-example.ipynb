{
 "cells": [
  {
   "cell_type": "markdown",
   "metadata": {},
   "source": [
    "# Playing with Terraform using some helper functions\n",
    "\n",
    "Learn how to use python to invoke Terraform and return all your Elastic Cloud cluster details.\n",
    "This is made easier by using some helper functions but if you want to know what they are doing they just head over and take a look. "
   ]
  },
  {
   "cell_type": "code",
   "execution_count": null,
   "metadata": {},
   "outputs": [],
   "source": [
    "import sys\n",
    "import pprint\n",
    "\n",
    "# My local imports\n",
    "sys.path.append(\"../\") # go to parent dir this help imports work as expected in notebooks\n",
    "from importlib import reload \n",
    "from tools import terraformes\n",
    "reload(terraformes); # reload module in case of changes\n",
    "\n"
   ]
  },
  {
   "cell_type": "code",
   "execution_count": null,
   "metadata": {},
   "outputs": [],
   "source": [
    "\n",
    "# Use terraform to create a cluster if it doesn't exist or just to return the details if it does\n",
    "cluster_details, es = terraformes.create_or_return_terraform_cluster(terraform_dir=\"./elastic-cloud/\")\n",
    "\n",
    "print(es.info()) # print cluster info"
   ]
  },
  {
   "cell_type": "code",
   "execution_count": null,
   "metadata": {},
   "outputs": [],
   "source": [
    "pprint.pprint(cluster_details)"
   ]
  },
  {
   "cell_type": "markdown",
   "metadata": {},
   "source": [
    "## When you are finished you can destroy your cluster\n",
    "\n",
    "I created a helper function which could add to sanity check so you don't accidentally delete a cluster if you click run all by acident\n",
    "\n"
   ]
  },
  {
   "cell_type": "code",
   "execution_count": null,
   "metadata": {},
   "outputs": [],
   "source": [
    "terraformes.safe_destroy_terrafrom_clsuter(cluster_details) "
   ]
  },
  {
   "cell_type": "markdown",
   "metadata": {},
   "source": []
  }
 ],
 "metadata": {
  "kernelspec": {
   "display_name": ".venv",
   "language": "python",
   "name": "python3"
  },
  "language_info": {
   "codemirror_mode": {
    "name": "ipython",
    "version": 3
   },
   "file_extension": ".py",
   "mimetype": "text/x-python",
   "name": "python",
   "nbconvert_exporter": "python",
   "pygments_lexer": "ipython3",
   "version": "3.9.6"
  }
 },
 "nbformat": 4,
 "nbformat_minor": 2
}
