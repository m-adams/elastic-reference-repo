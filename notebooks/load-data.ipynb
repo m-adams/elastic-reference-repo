{
 "cells": [
  {
   "cell_type": "markdown",
   "metadata": {},
   "source": [
    "# Elastic Search Labs Workplace Search document loader notebook\n",
    "\n",
    "Ingest json documents into Elasticsearch for use with the [Elastic Search Labs Workplace Search](https://github.com/elastic/elasticsearch-labs/tree/main/example-apps/workplace-search) example application\n"
   ]
  },
  {
   "cell_type": "markdown",
   "metadata": {},
   "source": [
    "## Import Libraries\n"
   ]
  },
  {
   "cell_type": "code",
   "execution_count": 11,
   "metadata": {},
   "outputs": [],
   "source": [
    "import os\n",
    "\n",
    "from dotenv import load_dotenv\n",
    "from elasticsearch import Elasticsearch\n",
    "from langchain.document_loaders import JSONLoader\n",
    "from langchain.text_splitter import CharacterTextSplitter\n",
    "from langchain.vectorstores import ElasticsearchStore\n",
    "\n",
    "from getpass import getpass"
   ]
  },
  {
   "cell_type": "markdown",
   "metadata": {},
   "source": [
    "## Define Functions\n"
   ]
  },
  {
   "cell_type": "code",
   "execution_count": 12,
   "metadata": {},
   "outputs": [],
   "source": [
    "# Metadata extraction function\n",
    "def metadata_func(record: dict, metadata: dict) -> dict:\n",
    "    metadata[\"name\"] = record.get(\"name\")\n",
    "    metadata[\"summary\"] = record.get(\"summary\")\n",
    "    metadata[\"url\"] = record.get(\"url\")\n",
    "    metadata[\"category\"] = record.get(\"category\")\n",
    "    metadata[\"updated_at\"] = record.get(\"updated_at\")\n",
    "    metadata[\"source\"] = \"gov.uk\"\n",
    "\n",
    "    return metadata"
   ]
  },
  {
   "cell_type": "markdown",
   "metadata": {},
   "source": [
    "## Define Variables\n"
   ]
  },
  {
   "cell_type": "code",
   "execution_count": 13,
   "metadata": {},
   "outputs": [],
   "source": [
    "FILE = \"../data/data.json\"\n",
    "INDEX = \"search-hmrc.app-docs\"\n",
    "\n",
    "# Define the ML model to use for embeddings\n",
    "ml_model = \".elser_model_1\"\n",
    "\n",
    "\n",
    "# Use getpass to add credentials at runtime\n",
    "ELASTIC_CLOUD_ID = getpass(\"What is your ELASTIC_CLOUD_ID: \")\n",
    "ELASTIC_USERNAME = getpass(\"What is your ELASTIC_USERNAME: \")\n",
    "ELASTIC_PASSWORD = getpass(\"What is your ELASTIC_PASSWORD: \")\n",
    "\n",
    "# # Or, load environment variables using dotenv - make sure you have defined a `.env` file\n",
    "# load_dotenv()\n",
    "#\n",
    "# ELASTIC_CLOUD_ID = os.getenv(\"ELASTIC_CLOUD_ID\")\n",
    "# ELASTIC_USERNAME = os.getenv(\"ELASTIC_USERNAME\")\n",
    "# ELASTIC_PASSWORD = os.getenv(\"ELASTIC_PASSWORD\")"
   ]
  },
  {
   "cell_type": "markdown",
   "metadata": {},
   "source": [
    "## Create Elasticsearch Client\n"
   ]
  },
  {
   "cell_type": "code",
   "execution_count": null,
   "metadata": {},
   "outputs": [],
   "source": [
    "elasticsearch_client = Elasticsearch(\n",
    "    cloud_id=ELASTIC_CLOUD_ID, basic_auth=(ELASTIC_USERNAME, ELASTIC_PASSWORD)\n",
    ")"
   ]
  },
  {
   "cell_type": "markdown",
   "metadata": {},
   "source": [
    "## Load Data\n"
   ]
  },
  {
   "cell_type": "code",
   "execution_count": null,
   "metadata": {},
   "outputs": [],
   "source": [
    "# Initialize a JSONLoader object with the file path, schema, content key, and metadata function\n",
    "print(f\"Loading data from ${FILE}\")\n",
    "\n",
    "loader = JSONLoader(\n",
    "    file_path=FILE,\n",
    "    jq_schema=\".[]\",\n",
    "    content_key=\"content\",\n",
    "    metadata_func=metadata_func,\n",
    ")\n",
    "\n",
    "# Load the workplace documents using the loader\n",
    "workplace_docs = loader.load()\n",
    "\n",
    "# Print the number of loaded documents\n",
    "print(f\"Loaded {len(workplace_docs)} documents\")\n",
    "\n",
    "# Initialize a CharacterTextSplitter object with chunk size and overlap\n",
    "text_splitter = CharacterTextSplitter(chunk_size=800, chunk_overlap=400)\n",
    "\n",
    "# Transform the workplace documents into chunks using the text splitter\n",
    "docs = text_splitter.transform_documents(workplace_docs)\n",
    "\n",
    "# Print the number of split documents and chunks\n",
    "print(f\"Split {len(workplace_docs)} documents into {len(docs)} chunks\")\n",
    "\n",
    "# Create an Elasticsearch sparse vector store in Elastic Cloud\n",
    "print(\n",
    "    f\"Creating Elasticsearch sparse vector store in Elastic Cloud: {ELASTIC_CLOUD_ID}\"\n",
    ")\n",
    "\n",
    "# Create the ElasticsearchStore with the documents, Elasticsearch connection, index name, retrieval strategy, and ML model\n",
    "ElasticsearchStore.from_documents(\n",
    "    docs,\n",
    "    es_connection=elasticsearch_client,\n",
    "    index_name=INDEX,\n",
    "    strategy=ElasticsearchStore.SparseVectorRetrievalStrategy(),\n",
    "    ml_model=ml_model,\n",
    ")"
   ]
  }
 ],
 "metadata": {
  "kernelspec": {
   "display_name": ".venv",
   "language": "python",
   "name": "python3"
  },
  "language_info": {
   "codemirror_mode": {
    "name": "ipython",
    "version": 3
   },
   "file_extension": ".py",
   "mimetype": "text/x-python",
   "name": "python",
   "nbconvert_exporter": "python",
   "pygments_lexer": "ipython3",
   "version": "3.11.2"
  }
 },
 "nbformat": 4,
 "nbformat_minor": 2
}
