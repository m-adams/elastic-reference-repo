{
 "cells": [
  {
   "cell_type": "code",
   "execution_count": null,
   "metadata": {},
   "outputs": [],
   "source": [
    "\n",
    "import sys\n",
    "sys.path.append(\"../\") # go to parent dir this help imports work as expected\n",
    "# Import myes which is some tools to get up and running faster\n",
    "from tools import myes\n",
    "import importlib\n",
    "importlib.reload(myes) # reload module to get latest changes\n",
    "\n",
    "# When we call init() it will load the basic env variables pls any extra we pass and also setup the es connection\n",
    "extra_env_vars={}\n",
    "es, config = myes.init(extra_env_vars)\n",
    "\n",
    "print(es.info()) "
   ]
  }
 ],
 "metadata": {
  "kernelspec": {
   "display_name": "Python 3",
   "language": "python",
   "name": "python3"
  },
  "language_info": {
   "codemirror_mode": {
    "name": "ipython",
    "version": 3
   },
   "file_extension": ".py",
   "mimetype": "text/x-python",
   "name": "python",
   "nbconvert_exporter": "python",
   "pygments_lexer": "ipython3",
   "version": "3.9.6"
  }
 },
 "nbformat": 4,
 "nbformat_minor": 2
}
