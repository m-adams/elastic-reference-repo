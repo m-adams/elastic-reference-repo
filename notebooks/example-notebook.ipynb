{
 "cells": [
  {
   "cell_type": "code",
   "execution_count": 4,
   "metadata": {},
   "outputs": [
    {
     "name": "stdout",
     "output_type": "stream",
     "text": [
      "Loading environment variables from .env file\n",
      "Connected to Elasticsearch\n",
      "{'name': 'instance-0000000010', 'cluster_name': '6b4429e2c0a849f99b93d0e1172938a3', 'cluster_uuid': '8Eqhm5YsTTS6-9rWyaadhA', 'version': {'number': '8.8.2', 'build_flavor': 'default', 'build_type': 'docker', 'build_hash': '98e1271edf932a480e4262a471281f1ee295ce6b', 'build_date': '2023-06-26T05:16:16.196344851Z', 'build_snapshot': False, 'lucene_version': '9.6.0', 'minimum_wire_compatibility_version': '7.17.0', 'minimum_index_compatibility_version': '7.0.0'}, 'tagline': 'You Know, for Search'}\n"
     ]
    }
   ],
   "source": [
    "\n",
    "import sys\n",
    "sys.path.append(\"../\") # go to parent dir this help imports work as expected\n",
    "# Import myes which is some tools to get up and running faster\n",
    "from tools import myes\n",
    "import importlib\n",
    "importlib.reload(myes) # reload module to get latest changes\n",
    "\n",
    "# When we call init() it will load the basic env variables pls any extra we pass and also setup the es connection\n",
    "extra_env_vars={}\n",
    "es, config = myes.init(extra_env_vars)\n",
    "\n",
    "print(es.info())"
   ]
  }
 ],
 "metadata": {
  "kernelspec": {
   "display_name": "Python 3",
   "language": "python",
   "name": "python3"
  },
  "language_info": {
   "codemirror_mode": {
    "name": "ipython",
    "version": 3
   },
   "file_extension": ".py",
   "mimetype": "text/x-python",
   "name": "python",
   "nbconvert_exporter": "python",
   "pygments_lexer": "ipython3",
   "version": "3.9.6"
  }
 },
 "nbformat": 4,
 "nbformat_minor": 2
}
